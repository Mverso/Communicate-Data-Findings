{
 "cells": [
  {
   "cell_type": "markdown",
   "metadata": {},
   "source": [
    "# Dataset & Main Goals\n",
    "\n",
    "I chose to investigate the Loan Data From Prosper.\n",
    "My main goals was to investigate what variables were most impactful in predicting estimated returns.\n",
    "\n",
    "## Key Findings\n",
    "\n",
    "1)There are a very large range of values, from about -20% at the lowest, to about 30% at the highest but the general shape of the graph is close to a normal distribution. However, the curve ramps up starting at around 4%, peaks at around 8% then slowly slopes down to 17.5%. There are a few abnormal peaks and valleys on the way down. All of this is represented in a histogram.\n",
    "\n",
    "2)Lender yields has the general shape of a normal distribution except at around 30%-31% there is a massive spike in quantity of loans at those rates. I thought that may be due to restrictions set by the state, but evidence in my exploratory analysis did not lend credence to that belief.\n",
    "\n",
    "3)A heat map between the categorical variables surprisingly showed that the length of a loan had little impact on the estimated effective yield and employment status had little correlation with estimated loss.\n",
    "\n",
    "4)Prosperity score was the best indicator of what yield was going to be on a loan. Since people with higher prosperity typically lead to less losses (chargeoffs), lenders are willing to lend to them for a lower yield. Additionally, although the lowest prosper score had the highest estimated loss, it still had the highest predicted yield.\n",
    "The highest group of lending rates is around 30%.\n",
    "\n",
    "### Sources\n",
    "I used Udacity's lessons as the primary resource for the creation of this project."
   ]
  },
  {
   "cell_type": "code",
   "execution_count": null,
   "metadata": {},
   "outputs": [],
   "source": []
  }
 ],
 "metadata": {
  "kernelspec": {
   "display_name": "Python 3",
   "language": "python",
   "name": "python3"
  },
  "language_info": {
   "codemirror_mode": {
    "name": "ipython",
    "version": 3
   },
   "file_extension": ".py",
   "mimetype": "text/x-python",
   "name": "python",
   "nbconvert_exporter": "python",
   "pygments_lexer": "ipython3",
   "version": "3.7.4"
  }
 },
 "nbformat": 4,
 "nbformat_minor": 4
}
